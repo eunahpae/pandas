{
 "cells": [
  {
   "cell_type": "code",
   "execution_count": 21,
   "metadata": {},
   "outputs": [],
   "source": [
    "import pymysql\n",
    "import random\n",
    "import string"
   ]
  },
  {
   "cell_type": "code",
   "execution_count": 22,
   "metadata": {},
   "outputs": [],
   "source": [
    "_db = pymysql.connect(        \n",
    "        host = 'localhost',\n",
    "        user ='root',\n",
    "        password = 'user',\n",
    "        db = 'os',\n",
    "        port = 3306    \n",
    ")\n",
    "cursor = _db.cursor(pymysql.cursors.DictCursor)"
   ]
  },
  {
   "cell_type": "code",
   "execution_count": 23,
   "metadata": {},
   "outputs": [
    {
     "data": {
      "text/plain": [
       "'abcdefghijklmnopqrstuvwxyz'"
      ]
     },
     "execution_count": 23,
     "metadata": {},
     "output_type": "execute_result"
    }
   ],
   "source": [
    "letter_set = string.ascii_lowercase\n",
    "letter_set"
   ]
  },
  {
   "cell_type": "code",
   "execution_count": 24,
   "metadata": {},
   "outputs": [],
   "source": [
    "name_list = []\n",
    "for i in range(50):\n",
    "    random_data = random.sample(letter_set,5)\n",
    "    data=\"\".join(random_data)\n",
    "    if data not in name_list:\n",
    "        name_list.append(data)\n",
    "    if len(name_list)==50:\n",
    "        break"
   ]
  },
  {
   "cell_type": "code",
   "execution_count": 25,
   "metadata": {},
   "outputs": [
    {
     "data": {
      "text/plain": [
       "50"
      ]
     },
     "execution_count": 25,
     "metadata": {},
     "output_type": "execute_result"
    }
   ],
   "source": [
    "len(name_list)"
   ]
  },
  {
   "cell_type": "code",
   "execution_count": 26,
   "metadata": {},
   "outputs": [],
   "source": [
    "addr = ['강북','강남','강서','강동',]\n",
    "addr_list = []\n",
    "for i in range(50):\n",
    "    data=random.choice(addr)\n",
    "    addr_list.append(data)    "
   ]
  },
  {
   "cell_type": "code",
   "execution_count": 27,
   "metadata": {},
   "outputs": [
    {
     "data": {
      "text/plain": [
       "50"
      ]
     },
     "execution_count": 27,
     "metadata": {},
     "output_type": "execute_result"
    }
   ],
   "source": [
    "len(addr_list)"
   ]
  },
  {
   "cell_type": "code",
   "execution_count": 28,
   "metadata": {},
   "outputs": [],
   "source": [
    "cate =[0,1,2]\n",
    "cate_list = []\n",
    "for i in range(50):\n",
    "    data=random.choice(cate)\n",
    "    cate_list.append(data)    "
   ]
  },
  {
   "cell_type": "code",
   "execution_count": 29,
   "metadata": {},
   "outputs": [],
   "source": [
    "letter_set2 = '1234567890'\n",
    "tel_list = []\n",
    "for i in range(50):\n",
    "    random_data1 = random.sample(letter_set2, 4)\n",
    "    random_data2 = random.sample(letter_set2, 4)\n",
    "    data1=\"\".join(random_data1)\n",
    "    data2=\"\".join(random_data2)\n",
    "    data='010-'+data1+'-'+data2\n",
    "    tel_list.append(data)   "
   ]
  },
  {
   "cell_type": "code",
   "execution_count": 30,
   "metadata": {},
   "outputs": [
    {
     "data": {
      "text/plain": [
       "['010-3726-4603',\n",
       " '010-7593-0215',\n",
       " '010-7104-1859',\n",
       " '010-5742-1572',\n",
       " '010-6014-3745',\n",
       " '010-6932-5980',\n",
       " '010-0285-2835',\n",
       " '010-1670-0832',\n",
       " '010-6375-2958',\n",
       " '010-8534-3456',\n",
       " '010-7638-0412',\n",
       " '010-1340-2504',\n",
       " '010-8325-9582',\n",
       " '010-6245-6320',\n",
       " '010-7528-7165',\n",
       " '010-7690-5806',\n",
       " '010-8152-5986',\n",
       " '010-0956-2687',\n",
       " '010-7830-2816',\n",
       " '010-0872-2874',\n",
       " '010-2468-3167',\n",
       " '010-4953-5270',\n",
       " '010-0435-7361',\n",
       " '010-6389-5639',\n",
       " '010-2714-0127',\n",
       " '010-6152-0259',\n",
       " '010-8402-9562',\n",
       " '010-3678-0975',\n",
       " '010-1240-2639',\n",
       " '010-6183-0784',\n",
       " '010-1869-7596',\n",
       " '010-3621-2609',\n",
       " '010-5964-0758',\n",
       " '010-3926-0453',\n",
       " '010-2017-7908',\n",
       " '010-5290-7190',\n",
       " '010-1097-7601',\n",
       " '010-8964-3907',\n",
       " '010-5270-3172',\n",
       " '010-3469-1520',\n",
       " '010-4106-1237',\n",
       " '010-3975-0349',\n",
       " '010-4798-3795',\n",
       " '010-2573-7256',\n",
       " '010-1645-7840',\n",
       " '010-9273-4790',\n",
       " '010-8154-7103',\n",
       " '010-2468-4765',\n",
       " '010-2690-9765',\n",
       " '010-4137-8163']"
      ]
     },
     "execution_count": 30,
     "metadata": {},
     "output_type": "execute_result"
    }
   ],
   "source": [
    "tel_list"
   ]
  },
  {
   "cell_type": "code",
   "execution_count": 32,
   "metadata": {},
   "outputs": [],
   "source": [
    "sql = \"\"\"\n",
    "    INSERT \n",
    "    INTO \n",
    "    studio\n",
    "    VALUES\n",
    "    (%s, %s, %s, %s)\n",
    "\"\"\"\n",
    "\n",
    "for i in range(50):\n",
    "    value = [name_list[i],addr_list[i],tel_list[i],cate_list[i]]\n",
    "    cursor.execute(sql,value)\n",
    "\n",
    "_db.commit()"
   ]
  }
 ],
 "metadata": {
  "kernelspec": {
   "display_name": "Python 3",
   "language": "python",
   "name": "python3"
  },
  "language_info": {
   "codemirror_mode": {
    "name": "ipython",
    "version": 3
   },
   "file_extension": ".py",
   "mimetype": "text/x-python",
   "name": "python",
   "nbconvert_exporter": "python",
   "pygments_lexer": "ipython3",
   "version": "3.10.9"
  },
  "orig_nbformat": 4
 },
 "nbformat": 4,
 "nbformat_minor": 2
}
