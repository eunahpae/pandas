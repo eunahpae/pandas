{
 "cells": [
  {
   "cell_type": "markdown",
   "metadata": {},
   "source": [
    "# 파이썬 기본 문법"
   ]
  },
  {
   "cell_type": "markdown",
   "metadata": {},
   "source": [
    "#### 변수 : 데이터를 저장하는 공간의 이름\n",
    "    1. 전역 변수\n",
    "        - 어디서든 사용이 가능한 변수\n",
    "\n",
    "    2. 지역 변수 \n",
    "        - 특정한 영역에서만 사용이 가능한 변수\n",
    "        - 해당 영역에서 벗어나는 경우 사용이 불가능\n",
    "        - 함수 안에서 생성된 변수, 클래스 안에서 생성된 변수\n",
    "\n",
    "    3. 매개 변수\n",
    "        - 함수를 선언할 때 만들어지는 변수\n",
    "        - 함수를 호출 시 특정한 입력 값(인자)을 받기 위해 만들어지는 변수\n",
    "\n",
    "    4. self 변수\n",
    "        - 각각의 클래스에서 독립적인 값을 가지는 변수\n",
    "        \n",
    "    5. 클래스 변수\n",
    "        - 같은 클래스를 생성하면 독립적이지 않고, 서로 공유하는 변수\n",
    "    "
   ]
  },
  {
   "cell_type": "markdown",
   "metadata": {},
   "source": [
    "#### 경로\n",
    "    1. 절대경로\n",
    "        - 절대적인 주소\n",
    "        - 환경에 관계 없이 고정된 위치를 표현\n",
    "        - ex) c:/users/admin/document/a.txt, https://www.google.com\n",
    "        \n",
    "    2. 상대경로\n",
    "        - 상대적인 주소\n",
    "        - 환경에 따라 위치가 변화\n",
    "        - 현재 작업중인 디렉토리에서 상위나 하위 폴더로 이동하여 파일의 경로를 생성\n",
    "        - ex)\n",
    "            - 현재 작업중인 디렉토리 : ./\n",
    "            - 부모 디렉토리로 이동 : ../\n",
    "            - 하위 디렉토리로 이동 : 하위디렉토리명/\n",
    "            - 부모 디렉토리에서 부모 디렉토리로 이동 : ../../"
   ]
  },
  {
   "cell_type": "markdown",
   "metadata": {},
   "source": [
    "#### 함수\n",
    "    - 같은 코드를 반복적으로 사용하는 경우 함수를 생성하여 호출\n",
    "    - 함수를 사용하는 이유\n",
    "        - 코드의 길이 감소 (유지보수, 가독성 상승)\n",
    "        - 수정 용이\n",
    "        - 오타 발생률 감소\n",
    "        - 에러 발생률 감소\n",
    "    - 특정한 입력 값을 받아와서 결과를 되돌려준다.\n",
    "\n"
   ]
  },
  {
   "cell_type": "markdown",
   "metadata": {},
   "source": [
    "#### 조건문\n",
    "    * if문\n",
    "        - 특정한 조건이 참인 경우 실행할 코드와 조건이 거짓인 경우 실행할 코드를 나눠서 작성\n",
    "        - 거짓인 경우 실행할 코드는 else문을 이용하여 작성\n",
    "        - 조건식이 여러개인 경우에는 elif문을 이용하여 조건식을 생성\n",
    "        - 하나의 조건에서 여러 개의 조건식을 사용하는 경우에는 논리 연산자(and,or)를 사용\n",
    "        \n"
   ]
  },
  {
   "cell_type": "markdown",
   "metadata": {},
   "source": [
    "#### 반복문\n",
    "    1. for 문\n",
    "        - 기본형 : for 변수명 in range(시작값,종료값,증감값):\n",
    "            - 시작 값부터 변수에 대입하여 반복하여 종료 값이 될 때까지 코드를 반복 실행\n",
    "            - range() : 시작값부터 증감값으로 데이터를 변형하여 종료 값이 될 때까지의 원소들을 자료형 데이터로 생성\n",
    "        - 자료형 데이터를 대입하여 반복문을 사용하는 경우 :  for 변수명 in 자료형데이터:\n",
    "\n",
    "    2. while 문\n",
    "        - 초기값을 지정하고 while 조건식을 이용하여 조건식이 거짓이 될 때까지 코드를 반복 실행\n",
    "        - 반복 실행하는 코드를 작성한 뒤 마지막에 초기값을 변경해주는 증감식 작성\n",
    "        - 반복문을 사용할 때 유의할 점 : 무한루프(조건식이 거짓이 될 수 있도록 조건식과 증감식 작성)\n",
    "        \n",
    "    \n",
    "    * continue문\n",
    "        - 반복문으로 되돌아가는 구문\n",
    "        - continue 밑의 코드를 실행하지 않고 반복문으로 되돌아가는 구문\n",
    "        - 반복 실행할 코드의 마지막에서 하는 행동을 코드 중간에서 강제로 지정\n",
    "        - 코드 마지막에 continue를 작성하면 -> 불필요한 코드\n",
    "    * break문\n",
    "        - 반복문을 강제로 종료"
   ]
  },
  {
   "cell_type": "markdown",
   "metadata": {},
   "source": [
    "# 데이터 분석"
   ]
  },
  {
   "cell_type": "markdown",
   "metadata": {},
   "source": [
    "#### pandas 예제\n",
    "    1. csv 폴더에 있는 Sales Records.csv 파일 로드 (read_csv()함수를 사용)\n",
    "    2. Region, Country, Sales Channel, Units Sold, Unit Price, Unit Cost컬럼만 추출\n",
    "    3. 컬럼의 이름을 변경 ( 권역, 국가, 개수, 판매채널, 단가, 원가 )\n",
    "    4. 권역이라는 컬럼의 이름을 대륙 변경\n",
    "    5. 총단가, 총원가, 총이윤 이라는 파생변수 생성 (소수점 2번째 자리까지 유지 반올림)\n",
    "        - 총단가 = 개수 * 단가\n",
    "        - 총원가 = 개수 * 원가\n",
    "        - 총이윤 = 총단가 - 총원가\n",
    "    6. 대륙별 총이윤의 평균을 바형 그래프 표시\n",
    "    7. 대륙, 판매채널에 따른 총이윤의 합계를 바형 그래프 표시\n",
    "        "
   ]
  },
  {
   "cell_type": "code",
   "execution_count": 31,
   "metadata": {},
   "outputs": [],
   "source": [
    "import pandas as pd\n",
    "import matplotlib.pyplot as plt"
   ]
  },
  {
   "cell_type": "code",
   "execution_count": 32,
   "metadata": {},
   "outputs": [],
   "source": [
    "# 경고메시지 출력을 하지 않도록 하는 설정\n",
    "import warnings\n",
    "warnings.filterwarnings('ignore')"
   ]
  },
  {
   "cell_type": "code",
   "execution_count": 33,
   "metadata": {},
   "outputs": [
    {
     "data": {
      "text/html": [
       "<div>\n",
       "<style scoped>\n",
       "    .dataframe tbody tr th:only-of-type {\n",
       "        vertical-align: middle;\n",
       "    }\n",
       "\n",
       "    .dataframe tbody tr th {\n",
       "        vertical-align: top;\n",
       "    }\n",
       "\n",
       "    .dataframe thead th {\n",
       "        text-align: right;\n",
       "    }\n",
       "</style>\n",
       "<table border=\"1\" class=\"dataframe\">\n",
       "  <thead>\n",
       "    <tr style=\"text-align: right;\">\n",
       "      <th></th>\n",
       "      <th>Region</th>\n",
       "      <th>Country</th>\n",
       "      <th>Item Type</th>\n",
       "      <th>Sales Channel</th>\n",
       "      <th>Order Priority</th>\n",
       "      <th>Order Date</th>\n",
       "      <th>Order ID</th>\n",
       "      <th>Ship Date</th>\n",
       "      <th>Units Sold</th>\n",
       "      <th>Unit Price</th>\n",
       "      <th>Unit Cost</th>\n",
       "      <th>Total Revenue</th>\n",
       "      <th>Total Cost</th>\n",
       "      <th>Total Profit</th>\n",
       "    </tr>\n",
       "  </thead>\n",
       "  <tbody>\n",
       "    <tr>\n",
       "      <th>0</th>\n",
       "      <td>Sub-Saharan Africa</td>\n",
       "      <td>Chad</td>\n",
       "      <td>Office Supplies</td>\n",
       "      <td>Online</td>\n",
       "      <td>L</td>\n",
       "      <td>1/27/2011</td>\n",
       "      <td>292494523</td>\n",
       "      <td>2/12/2011</td>\n",
       "      <td>4484</td>\n",
       "      <td>651.21</td>\n",
       "      <td>524.96</td>\n",
       "      <td>2920025.64</td>\n",
       "      <td>2353920.64</td>\n",
       "      <td>566105.00</td>\n",
       "    </tr>\n",
       "    <tr>\n",
       "      <th>1</th>\n",
       "      <td>Europe</td>\n",
       "      <td>Latvia</td>\n",
       "      <td>Beverages</td>\n",
       "      <td>Online</td>\n",
       "      <td>C</td>\n",
       "      <td>12/28/2015</td>\n",
       "      <td>361825549</td>\n",
       "      <td>1/23/2016</td>\n",
       "      <td>1075</td>\n",
       "      <td>47.45</td>\n",
       "      <td>31.79</td>\n",
       "      <td>51008.75</td>\n",
       "      <td>34174.25</td>\n",
       "      <td>16834.50</td>\n",
       "    </tr>\n",
       "    <tr>\n",
       "      <th>2</th>\n",
       "      <td>Middle East and North Africa</td>\n",
       "      <td>Pakistan</td>\n",
       "      <td>Vegetables</td>\n",
       "      <td>Offline</td>\n",
       "      <td>C</td>\n",
       "      <td>1/13/2011</td>\n",
       "      <td>141515767</td>\n",
       "      <td>2/1/2011</td>\n",
       "      <td>6515</td>\n",
       "      <td>154.06</td>\n",
       "      <td>90.93</td>\n",
       "      <td>1003700.90</td>\n",
       "      <td>592408.95</td>\n",
       "      <td>411291.95</td>\n",
       "    </tr>\n",
       "    <tr>\n",
       "      <th>3</th>\n",
       "      <td>Sub-Saharan Africa</td>\n",
       "      <td>Democratic Republic of the Congo</td>\n",
       "      <td>Household</td>\n",
       "      <td>Online</td>\n",
       "      <td>C</td>\n",
       "      <td>9/11/2012</td>\n",
       "      <td>500364005</td>\n",
       "      <td>10/6/2012</td>\n",
       "      <td>7683</td>\n",
       "      <td>668.27</td>\n",
       "      <td>502.54</td>\n",
       "      <td>5134318.41</td>\n",
       "      <td>3861014.82</td>\n",
       "      <td>1273303.59</td>\n",
       "    </tr>\n",
       "    <tr>\n",
       "      <th>4</th>\n",
       "      <td>Europe</td>\n",
       "      <td>Czech Republic</td>\n",
       "      <td>Beverages</td>\n",
       "      <td>Online</td>\n",
       "      <td>C</td>\n",
       "      <td>10/27/2015</td>\n",
       "      <td>127481591</td>\n",
       "      <td>12/5/2015</td>\n",
       "      <td>3491</td>\n",
       "      <td>47.45</td>\n",
       "      <td>31.79</td>\n",
       "      <td>165647.95</td>\n",
       "      <td>110978.89</td>\n",
       "      <td>54669.06</td>\n",
       "    </tr>\n",
       "  </tbody>\n",
       "</table>\n",
       "</div>"
      ],
      "text/plain": [
       "                         Region                           Country  \\\n",
       "0            Sub-Saharan Africa                              Chad   \n",
       "1                        Europe                            Latvia   \n",
       "2  Middle East and North Africa                          Pakistan   \n",
       "3            Sub-Saharan Africa  Democratic Republic of the Congo   \n",
       "4                        Europe                    Czech Republic   \n",
       "\n",
       "         Item Type Sales Channel Order Priority  Order Date   Order ID  \\\n",
       "0  Office Supplies        Online              L   1/27/2011  292494523   \n",
       "1        Beverages        Online              C  12/28/2015  361825549   \n",
       "2       Vegetables       Offline              C   1/13/2011  141515767   \n",
       "3        Household        Online              C   9/11/2012  500364005   \n",
       "4        Beverages        Online              C  10/27/2015  127481591   \n",
       "\n",
       "   Ship Date  Units Sold  Unit Price  Unit Cost  Total Revenue  Total Cost  \\\n",
       "0  2/12/2011        4484      651.21     524.96     2920025.64  2353920.64   \n",
       "1  1/23/2016        1075       47.45      31.79       51008.75    34174.25   \n",
       "2   2/1/2011        6515      154.06      90.93     1003700.90   592408.95   \n",
       "3  10/6/2012        7683      668.27     502.54     5134318.41  3861014.82   \n",
       "4  12/5/2015        3491       47.45      31.79      165647.95   110978.89   \n",
       "\n",
       "   Total Profit  \n",
       "0     566105.00  \n",
       "1      16834.50  \n",
       "2     411291.95  \n",
       "3    1273303.59  \n",
       "4      54669.06  "
      ]
     },
     "execution_count": 33,
     "metadata": {},
     "output_type": "execute_result"
    }
   ],
   "source": [
    "# csv 파일을 로드 하는 함수 read_csv({파일경로}, encodiing=?)\n",
    "# encodiing 은 기본값이 'utf-8'\n",
    "# 데이터에 한글이 존재하는 경우에는 decodeError가 발생할 수 있다.\n",
    "# encodiing 을 'cp949','euc-kr'로 변경\n",
    "# 파일의 경로는 절대경로, 상대경로 모두 사용 가능\n",
    "sales = pd.read_csv(\"./csv/Sales Records.csv\")\n",
    "sales.head()"
   ]
  },
  {
   "cell_type": "code",
   "execution_count": 37,
   "metadata": {},
   "outputs": [
    {
     "name": "stdout",
     "output_type": "stream",
     "text": [
      "<class 'pandas.core.frame.DataFrame'>\n",
      "RangeIndex: 10000 entries, 0 to 9999\n",
      "Data columns (total 14 columns):\n",
      " #   Column          Non-Null Count  Dtype  \n",
      "---  ------          --------------  -----  \n",
      " 0   Region          10000 non-null  object \n",
      " 1   Country         10000 non-null  object \n",
      " 2   Item Type       10000 non-null  object \n",
      " 3   Sales Channel   10000 non-null  object \n",
      " 4   Order Priority  10000 non-null  object \n",
      " 5   Order Date      10000 non-null  object \n",
      " 6   Order ID        10000 non-null  int64  \n",
      " 7   Ship Date       10000 non-null  object \n",
      " 8   Units Sold      10000 non-null  int64  \n",
      " 9   Unit Price      10000 non-null  float64\n",
      " 10  Unit Cost       10000 non-null  float64\n",
      " 11  Total Revenue   10000 non-null  float64\n",
      " 12  Total Cost      10000 non-null  float64\n",
      " 13  Total Profit    10000 non-null  float64\n",
      "dtypes: float64(5), int64(2), object(7)\n",
      "memory usage: 1.1+ MB\n"
     ]
    }
   ],
   "source": [
    "sales.info()"
   ]
  },
  {
   "cell_type": "code",
   "execution_count": 38,
   "metadata": {},
   "outputs": [
    {
     "data": {
      "text/html": [
       "<div>\n",
       "<style scoped>\n",
       "    .dataframe tbody tr th:only-of-type {\n",
       "        vertical-align: middle;\n",
       "    }\n",
       "\n",
       "    .dataframe tbody tr th {\n",
       "        vertical-align: top;\n",
       "    }\n",
       "\n",
       "    .dataframe thead th {\n",
       "        text-align: right;\n",
       "    }\n",
       "</style>\n",
       "<table border=\"1\" class=\"dataframe\">\n",
       "  <thead>\n",
       "    <tr style=\"text-align: right;\">\n",
       "      <th></th>\n",
       "      <th>Order ID</th>\n",
       "      <th>Units Sold</th>\n",
       "      <th>Unit Price</th>\n",
       "      <th>Unit Cost</th>\n",
       "      <th>Total Revenue</th>\n",
       "      <th>Total Cost</th>\n",
       "      <th>Total Profit</th>\n",
       "    </tr>\n",
       "  </thead>\n",
       "  <tbody>\n",
       "    <tr>\n",
       "      <th>count</th>\n",
       "      <td>1.000000e+04</td>\n",
       "      <td>10000.000000</td>\n",
       "      <td>10000.000000</td>\n",
       "      <td>10000.000000</td>\n",
       "      <td>1.000000e+04</td>\n",
       "      <td>1.000000e+04</td>\n",
       "      <td>1.000000e+04</td>\n",
       "    </tr>\n",
       "    <tr>\n",
       "      <th>mean</th>\n",
       "      <td>5.498719e+08</td>\n",
       "      <td>5002.855900</td>\n",
       "      <td>268.143139</td>\n",
       "      <td>188.806639</td>\n",
       "      <td>1.333355e+06</td>\n",
       "      <td>9.382658e+05</td>\n",
       "      <td>3.950893e+05</td>\n",
       "    </tr>\n",
       "    <tr>\n",
       "      <th>std</th>\n",
       "      <td>2.607835e+08</td>\n",
       "      <td>2873.246454</td>\n",
       "      <td>217.944092</td>\n",
       "      <td>176.445907</td>\n",
       "      <td>1.465026e+06</td>\n",
       "      <td>1.145914e+06</td>\n",
       "      <td>3.775550e+05</td>\n",
       "    </tr>\n",
       "    <tr>\n",
       "      <th>min</th>\n",
       "      <td>1.000892e+08</td>\n",
       "      <td>2.000000</td>\n",
       "      <td>9.330000</td>\n",
       "      <td>6.920000</td>\n",
       "      <td>1.679400e+02</td>\n",
       "      <td>1.245600e+02</td>\n",
       "      <td>4.338000e+01</td>\n",
       "    </tr>\n",
       "    <tr>\n",
       "      <th>25%</th>\n",
       "      <td>3.218067e+08</td>\n",
       "      <td>2530.750000</td>\n",
       "      <td>109.280000</td>\n",
       "      <td>56.670000</td>\n",
       "      <td>2.885511e+05</td>\n",
       "      <td>1.647855e+05</td>\n",
       "      <td>9.832914e+04</td>\n",
       "    </tr>\n",
       "    <tr>\n",
       "      <th>50%</th>\n",
       "      <td>5.485663e+08</td>\n",
       "      <td>4962.000000</td>\n",
       "      <td>205.700000</td>\n",
       "      <td>117.110000</td>\n",
       "      <td>8.000512e+05</td>\n",
       "      <td>4.816058e+05</td>\n",
       "      <td>2.890990e+05</td>\n",
       "    </tr>\n",
       "    <tr>\n",
       "      <th>75%</th>\n",
       "      <td>7.759981e+08</td>\n",
       "      <td>7472.000000</td>\n",
       "      <td>437.200000</td>\n",
       "      <td>364.690000</td>\n",
       "      <td>1.819143e+06</td>\n",
       "      <td>1.183822e+06</td>\n",
       "      <td>5.664227e+05</td>\n",
       "    </tr>\n",
       "    <tr>\n",
       "      <th>max</th>\n",
       "      <td>9.999342e+08</td>\n",
       "      <td>10000.000000</td>\n",
       "      <td>668.270000</td>\n",
       "      <td>524.960000</td>\n",
       "      <td>6.680027e+06</td>\n",
       "      <td>5.241726e+06</td>\n",
       "      <td>1.738178e+06</td>\n",
       "    </tr>\n",
       "  </tbody>\n",
       "</table>\n",
       "</div>"
      ],
      "text/plain": [
       "           Order ID    Units Sold    Unit Price     Unit Cost  Total Revenue  \\\n",
       "count  1.000000e+04  10000.000000  10000.000000  10000.000000   1.000000e+04   \n",
       "mean   5.498719e+08   5002.855900    268.143139    188.806639   1.333355e+06   \n",
       "std    2.607835e+08   2873.246454    217.944092    176.445907   1.465026e+06   \n",
       "min    1.000892e+08      2.000000      9.330000      6.920000   1.679400e+02   \n",
       "25%    3.218067e+08   2530.750000    109.280000     56.670000   2.885511e+05   \n",
       "50%    5.485663e+08   4962.000000    205.700000    117.110000   8.000512e+05   \n",
       "75%    7.759981e+08   7472.000000    437.200000    364.690000   1.819143e+06   \n",
       "max    9.999342e+08  10000.000000    668.270000    524.960000   6.680027e+06   \n",
       "\n",
       "         Total Cost  Total Profit  \n",
       "count  1.000000e+04  1.000000e+04  \n",
       "mean   9.382658e+05  3.950893e+05  \n",
       "std    1.145914e+06  3.775550e+05  \n",
       "min    1.245600e+02  4.338000e+01  \n",
       "25%    1.647855e+05  9.832914e+04  \n",
       "50%    4.816058e+05  2.890990e+05  \n",
       "75%    1.183822e+06  5.664227e+05  \n",
       "max    5.241726e+06  1.738178e+06  "
      ]
     },
     "execution_count": 38,
     "metadata": {},
     "output_type": "execute_result"
    }
   ],
   "source": [
    "sales.isna()\n",
    "sales.isna().sum()\n",
    "\n",
    "# 데이터프레임에서 통계요약정보를 확인하는 함수\n",
    "sales.describe()"
   ]
  },
  {
   "cell_type": "code",
   "execution_count": 43,
   "metadata": {},
   "outputs": [],
   "source": [
    "# 복사본 생성\n",
    "df = sales.copy()"
   ]
  },
  {
   "cell_type": "code",
   "execution_count": 45,
   "metadata": {},
   "outputs": [],
   "source": [
    "# 특정한 컬럼들만 출력\n",
    "df = df[['Region', 'Country', 'Sales Channel', 'Units Sold', 'Unit Price', 'Unit Cost']]\n",
    "\n",
    "# 특정한 컬럼들은 제외하고 나머지 컬럼을 삭제\n",
    "# 컬럼을 삭제하는 함수 drop({조건식}, axis = 0 | 1 )\n",
    "# df.drop(['Sales Channel'], axis= 1)"
   ]
  },
  {
   "cell_type": "code",
   "execution_count": 46,
   "metadata": {},
   "outputs": [
    {
     "data": {
      "text/html": [
       "<div>\n",
       "<style scoped>\n",
       "    .dataframe tbody tr th:only-of-type {\n",
       "        vertical-align: middle;\n",
       "    }\n",
       "\n",
       "    .dataframe tbody tr th {\n",
       "        vertical-align: top;\n",
       "    }\n",
       "\n",
       "    .dataframe thead th {\n",
       "        text-align: right;\n",
       "    }\n",
       "</style>\n",
       "<table border=\"1\" class=\"dataframe\">\n",
       "  <thead>\n",
       "    <tr style=\"text-align: right;\">\n",
       "      <th></th>\n",
       "      <th>권역</th>\n",
       "      <th>국가</th>\n",
       "      <th>판매채널</th>\n",
       "      <th>개수</th>\n",
       "      <th>단가</th>\n",
       "      <th>원가</th>\n",
       "    </tr>\n",
       "  </thead>\n",
       "  <tbody>\n",
       "    <tr>\n",
       "      <th>0</th>\n",
       "      <td>Sub-Saharan Africa</td>\n",
       "      <td>Chad</td>\n",
       "      <td>Online</td>\n",
       "      <td>4484</td>\n",
       "      <td>651.21</td>\n",
       "      <td>524.96</td>\n",
       "    </tr>\n",
       "    <tr>\n",
       "      <th>1</th>\n",
       "      <td>Europe</td>\n",
       "      <td>Latvia</td>\n",
       "      <td>Online</td>\n",
       "      <td>1075</td>\n",
       "      <td>47.45</td>\n",
       "      <td>31.79</td>\n",
       "    </tr>\n",
       "    <tr>\n",
       "      <th>2</th>\n",
       "      <td>Middle East and North Africa</td>\n",
       "      <td>Pakistan</td>\n",
       "      <td>Offline</td>\n",
       "      <td>6515</td>\n",
       "      <td>154.06</td>\n",
       "      <td>90.93</td>\n",
       "    </tr>\n",
       "    <tr>\n",
       "      <th>3</th>\n",
       "      <td>Sub-Saharan Africa</td>\n",
       "      <td>Democratic Republic of the Congo</td>\n",
       "      <td>Online</td>\n",
       "      <td>7683</td>\n",
       "      <td>668.27</td>\n",
       "      <td>502.54</td>\n",
       "    </tr>\n",
       "    <tr>\n",
       "      <th>4</th>\n",
       "      <td>Europe</td>\n",
       "      <td>Czech Republic</td>\n",
       "      <td>Online</td>\n",
       "      <td>3491</td>\n",
       "      <td>47.45</td>\n",
       "      <td>31.79</td>\n",
       "    </tr>\n",
       "    <tr>\n",
       "      <th>...</th>\n",
       "      <td>...</td>\n",
       "      <td>...</td>\n",
       "      <td>...</td>\n",
       "      <td>...</td>\n",
       "      <td>...</td>\n",
       "      <td>...</td>\n",
       "    </tr>\n",
       "    <tr>\n",
       "      <th>9995</th>\n",
       "      <td>Asia</td>\n",
       "      <td>Laos</td>\n",
       "      <td>Online</td>\n",
       "      <td>8597</td>\n",
       "      <td>47.45</td>\n",
       "      <td>31.79</td>\n",
       "    </tr>\n",
       "    <tr>\n",
       "      <th>9996</th>\n",
       "      <td>Europe</td>\n",
       "      <td>Liechtenstein</td>\n",
       "      <td>Online</td>\n",
       "      <td>562</td>\n",
       "      <td>437.20</td>\n",
       "      <td>263.33</td>\n",
       "    </tr>\n",
       "    <tr>\n",
       "      <th>9997</th>\n",
       "      <td>Sub-Saharan Africa</td>\n",
       "      <td>Democratic Republic of the Congo</td>\n",
       "      <td>Offline</td>\n",
       "      <td>2524</td>\n",
       "      <td>154.06</td>\n",
       "      <td>90.93</td>\n",
       "    </tr>\n",
       "    <tr>\n",
       "      <th>9998</th>\n",
       "      <td>Sub-Saharan Africa</td>\n",
       "      <td>South Africa</td>\n",
       "      <td>Online</td>\n",
       "      <td>8706</td>\n",
       "      <td>421.89</td>\n",
       "      <td>364.69</td>\n",
       "    </tr>\n",
       "    <tr>\n",
       "      <th>9999</th>\n",
       "      <td>Asia</td>\n",
       "      <td>Mongolia</td>\n",
       "      <td>Offline</td>\n",
       "      <td>361</td>\n",
       "      <td>152.58</td>\n",
       "      <td>97.44</td>\n",
       "    </tr>\n",
       "  </tbody>\n",
       "</table>\n",
       "<p>10000 rows × 6 columns</p>\n",
       "</div>"
      ],
      "text/plain": [
       "                                권역                                국가     판매채널  \\\n",
       "0               Sub-Saharan Africa                              Chad   Online   \n",
       "1                           Europe                            Latvia   Online   \n",
       "2     Middle East and North Africa                          Pakistan  Offline   \n",
       "3               Sub-Saharan Africa  Democratic Republic of the Congo   Online   \n",
       "4                           Europe                    Czech Republic   Online   \n",
       "...                            ...                               ...      ...   \n",
       "9995                          Asia                              Laos   Online   \n",
       "9996                        Europe                     Liechtenstein   Online   \n",
       "9997            Sub-Saharan Africa  Democratic Republic of the Congo  Offline   \n",
       "9998            Sub-Saharan Africa                      South Africa   Online   \n",
       "9999                          Asia                          Mongolia  Offline   \n",
       "\n",
       "        개수      단가      원가  \n",
       "0     4484  651.21  524.96  \n",
       "1     1075   47.45   31.79  \n",
       "2     6515  154.06   90.93  \n",
       "3     7683  668.27  502.54  \n",
       "4     3491   47.45   31.79  \n",
       "...    ...     ...     ...  \n",
       "9995  8597   47.45   31.79  \n",
       "9996   562  437.20  263.33  \n",
       "9997  2524  154.06   90.93  \n",
       "9998  8706  421.89  364.69  \n",
       "9999   361  152.58   97.44  \n",
       "\n",
       "[10000 rows x 6 columns]"
      ]
     },
     "execution_count": 46,
     "metadata": {},
     "output_type": "execute_result"
    }
   ],
   "source": [
    "# 전체 컬럼의 이름을 변경\n",
    "# DataFrame 이라는 class에는 변수 3개 (index, columns, values)\n",
    "df.columns = ['권역', '국가', '판매채널', '개수', '단가', '원가']\n",
    "df"
   ]
  },
  {
   "cell_type": "code",
   "execution_count": 48,
   "metadata": {},
   "outputs": [],
   "source": [
    "# 특정 컬럼의 이름을 변경 rename(columns={before:after})\n",
    "df.rename(columns={'권역':'대륙'}, inplace=True)"
   ]
  },
  {
   "cell_type": "code",
   "execution_count": 50,
   "metadata": {},
   "outputs": [
    {
     "data": {
      "text/html": [
       "<div>\n",
       "<style scoped>\n",
       "    .dataframe tbody tr th:only-of-type {\n",
       "        vertical-align: middle;\n",
       "    }\n",
       "\n",
       "    .dataframe tbody tr th {\n",
       "        vertical-align: top;\n",
       "    }\n",
       "\n",
       "    .dataframe thead th {\n",
       "        text-align: right;\n",
       "    }\n",
       "</style>\n",
       "<table border=\"1\" class=\"dataframe\">\n",
       "  <thead>\n",
       "    <tr style=\"text-align: right;\">\n",
       "      <th></th>\n",
       "      <th>대륙</th>\n",
       "      <th>국가</th>\n",
       "      <th>판매채널</th>\n",
       "      <th>개수</th>\n",
       "      <th>단가</th>\n",
       "      <th>원가</th>\n",
       "      <th>총원가</th>\n",
       "      <th>총단가</th>\n",
       "      <th>총이윤</th>\n",
       "    </tr>\n",
       "  </thead>\n",
       "  <tbody>\n",
       "    <tr>\n",
       "      <th>0</th>\n",
       "      <td>Sub-Saharan Africa</td>\n",
       "      <td>Chad</td>\n",
       "      <td>Online</td>\n",
       "      <td>4484</td>\n",
       "      <td>651.21</td>\n",
       "      <td>524.96</td>\n",
       "      <td>2353920.64</td>\n",
       "      <td>2920025.64</td>\n",
       "      <td>566105.0</td>\n",
       "    </tr>\n",
       "  </tbody>\n",
       "</table>\n",
       "</div>"
      ],
      "text/plain": [
       "                   대륙    국가    판매채널    개수      단가      원가         총원가  \\\n",
       "0  Sub-Saharan Africa  Chad  Online  4484  651.21  524.96  2353920.64   \n",
       "\n",
       "          총단가       총이윤  \n",
       "0  2920025.64  566105.0  "
      ]
     },
     "execution_count": 50,
     "metadata": {},
     "output_type": "execute_result"
    }
   ],
   "source": [
    "# 새로운 파생변수 생성\n",
    "# 소수점 2자리까지만 유지, 반올림 round(n)\n",
    "df['총단가'] = (df['개수'] * df['단가']).round(2)\n",
    "df['총원가'] = (df['개수'] * df['원가']).round(2)\n",
    "df['총이윤'] = df['총단가'] - df['총원가']\n",
    "df.head(1)"
   ]
  },
  {
   "cell_type": "markdown",
   "metadata": {},
   "source": [
    "#### 그룹화\n",
    "    - groupby()\n",
    "        - 특정한 컬럼을 지정하여 데이터들이 같은 값들을 그룹화\n",
    "        - 그룹화된 데이터들의 평균이나 합계, 최소, 최대, 표준편차와 같은 통계량을 생성\n",
    "    - pivoy_table()\n",
    "        - index, column, value 를 지정하여 그룹화\n",
    "        - 그룹화된 데이터들의 통계량을 생성"
   ]
  },
  {
   "cell_type": "code",
   "execution_count": 53,
   "metadata": {},
   "outputs": [],
   "source": [
    "# 대륙별 총이윤의 평균을 데이터프레임 그룹화\n",
    "group_data = df[['대륙','총이윤']].groupby(['대륙']).mean()"
   ]
  },
  {
   "cell_type": "code",
   "execution_count": 55,
   "metadata": {},
   "outputs": [],
   "source": [
    "import platform"
   ]
  },
  {
   "cell_type": "code",
   "execution_count": 56,
   "metadata": {},
   "outputs": [],
   "source": [
    "# 그래프의 한글 깨짐 방지를 위해 폰트를 변경\n",
    "if platform.system() == 'Darwin':\n",
    "    plt.rc('font', family='AplleGothic')\n",
    "else:\n",
    "    plt.rc('font', family='Malgun Gothic')"
   ]
  },
  {
   "cell_type": "code",
   "execution_count": 57,
   "metadata": {},
   "outputs": [
    {
     "data": {
      "text/plain": [
       "<Axes: xlabel='대륙'>"
      ]
     },
     "execution_count": 57,
     "metadata": {},
     "output_type": "execute_result"
    },
    {
     "data": {
      "image/png": "[encoded data removed]",
      "text/plain": [
       "<Figure size 640x480 with 1 Axes>"
      ]
     },
     "metadata": {},
     "output_type": "display_data"
    }
   ],
   "source": [
    "# 그룹화된 데이터프레임을 바형 그래프 시각화\n",
    "group_data.plot.bar()"
   ]
  },
  {
   "cell_type": "code",
   "execution_count": 62,
   "metadata": {},
   "outputs": [],
   "source": [
    "# pivot_table() 함수를 이용하여 그룹화\n",
    "# 대륙, 판매채널별 총이윤의 합계\n",
    "pivot_data = pd.pivot_table(\n",
    "    df,\n",
    "    index='대륙',\n",
    "    columns='판매채널',\n",
    "    values='총이윤',\n",
    "    aggfunc='sum'    \n",
    ")"
   ]
  },
  {
   "cell_type": "code",
   "execution_count": 64,
   "metadata": {},
   "outputs": [
    {
     "data": {
      "text/plain": [
       "<Axes: xlabel='대륙'>"
      ]
     },
     "execution_count": 64,
     "metadata": {},
     "output_type": "execute_result"
    },
    {
     "data": {
      "image/png": "[encoded data removed]",
      "text/plain": [
       "<Figure size 640x480 with 1 Axes>"
      ]
     },
     "metadata": {},
     "output_type": "display_data"
    }
   ],
   "source": [
    "pivot_data.plot.bar()"
   ]
  },
  {
   "cell_type": "code",
   "execution_count": 66,
   "metadata": {},
   "outputs": [],
   "source": [
    "group_data2 = df[['대륙','판매채널','총이윤']].groupby(['대륙','판매채널']).sum()"
   ]
  },
  {
   "cell_type": "code",
   "execution_count": 68,
   "metadata": {},
   "outputs": [
    {
     "data": {
      "text/plain": [
       "<Axes: xlabel='대륙'>"
      ]
     },
     "execution_count": 68,
     "metadata": {},
     "output_type": "execute_result"
    },
    {
     "data": {
      "image/png": "[encoded data removed]",
      "text/plain": [
       "<Figure size 640x480 with 1 Axes>"
      ]
     },
     "metadata": {},
     "output_type": "display_data"
    }
   ],
   "source": [
    "# 인덱스의 데이터를 컬럼으로 이동 : unstack()\n",
    "# 컬럼의 데이터를 인덱스로 이동 : stack()\n",
    "group_data2.unstack().plot.bar()"
   ]
  }
 ],
 "metadata": {
  "kernelspec": {
   "display_name": "Python 3",
   "language": "python",
   "name": "python3"
  },
  "language_info": {
   "codemirror_mode": {
    "name": "ipython",
    "version": 3
   },
   "file_extension": ".py",
   "mimetype": "text/x-python",
   "name": "python",
   "nbconvert_exporter": "python",
   "pygments_lexer": "ipython3",
   "version": "3.10.9"
  },
  "orig_nbformat": 4
 },
 "nbformat": 4,
 "nbformat_minor": 2
}
