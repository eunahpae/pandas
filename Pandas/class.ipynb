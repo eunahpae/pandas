{
 "cells": [
  {
   "cell_type": "code",
   "execution_count": 111,
   "metadata": {},
   "outputs": [],
   "source": [
    "class Test:\n",
    "    \n",
    "    # class 변수 \n",
    "    user_list = []\n",
    "    \n",
    "    def __init__(self, _name, _age):\n",
    "        self.name = _name\n",
    "        self.age = _age\n",
    "        # class 변수의 데이터를 변경\n",
    "        self.user_list.append(_name)\n",
    "        \n",
    "    def info(self):\n",
    "        return f\"이름은 {self.name} 이고, 나이는 {self.age}살 이다.\""
   ]
  },
  {
   "cell_type": "code",
   "execution_count": 112,
   "metadata": {},
   "outputs": [
    {
     "data": {
      "text/plain": [
       "'이름은 김은아 이고, 나이는 20살 이다.'"
      ]
     },
     "execution_count": 112,
     "metadata": {},
     "output_type": "execute_result"
    }
   ],
   "source": [
    "user1 = Test('배은아',10)\n",
    "user2 = Test('김은아',20)\n",
    "user1.info()\n",
    "user2.info()"
   ]
  },
  {
   "cell_type": "code",
   "execution_count": 113,
   "metadata": {},
   "outputs": [
    {
     "name": "stdout",
     "output_type": "stream",
     "text": [
      "['배은아', '김은아']\n",
      "['배은아', '김은아']\n"
     ]
    }
   ],
   "source": [
    "print(user1.user_list)\n",
    "print(user2.user_list)"
   ]
  },
  {
   "cell_type": "code",
   "execution_count": 114,
   "metadata": {},
   "outputs": [],
   "source": [
    "class Data:\n",
    "    # 생성자 함수 선언\n",
    "    def __init__(self, _value, _index = 0, _column = 0):\n",
    "        self.values = _value\n",
    "        # _index가 0이라면\n",
    "        if _index ==0:\n",
    "            # _value의 길이만큼 range()를 이용하여 자료형 데이터를 index 대입\n",
    "            self.index = list(range(len(_value[0])))\n",
    "        else:              \n",
    "            self.index = _index\n",
    "        if _column == 0:\n",
    "            self.columns = list(range(len(_value)))\n",
    "        else:\n",
    "            self.columns = _column\n",
    "            \n",
    "    def apply(self, _func):\n",
    "        # 독립변수는 values를 _func 함수에 각각의 원소들을 입력값으로 하여 새로운 배열을 되돌려준다.\n",
    "        result = []\n",
    "        for i in self.values:\n",
    "            # i의 데이터의 타입 -> list\n",
    "            result.append(list(map(_func,i)))\n",
    "            print(result)\n",
    "        return result"
   ]
  },
  {
   "cell_type": "code",
   "execution_count": 115,
   "metadata": {},
   "outputs": [],
   "source": [
    "data = Data(\n",
    "    [[1,2,3],[4,5,6]]\n",
    ")"
   ]
  },
  {
   "cell_type": "code",
   "execution_count": 116,
   "metadata": {},
   "outputs": [
    {
     "data": {
      "text/plain": [
       "[0, 1]"
      ]
     },
     "execution_count": 116,
     "metadata": {},
     "output_type": "execute_result"
    }
   ],
   "source": [
    "data.index\n",
    "data.columns"
   ]
  },
  {
   "cell_type": "code",
   "execution_count": 117,
   "metadata": {},
   "outputs": [
    {
     "name": "stdout",
     "output_type": "stream",
     "text": [
      "[[1, 4, 9]]\n",
      "[[1, 4, 9], [16, 25, 36]]\n"
     ]
    },
    {
     "data": {
      "text/plain": [
       "[[1, 4, 9], [16, 25, 36]]"
      ]
     },
     "execution_count": 117,
     "metadata": {},
     "output_type": "execute_result"
    }
   ],
   "source": [
    "# 일반 함수\n",
    "def change(x):\n",
    "    result = x ** 2\n",
    "    return result\n",
    "\n",
    "data.apply(change)"
   ]
  },
  {
   "cell_type": "code",
   "execution_count": 118,
   "metadata": {},
   "outputs": [],
   "source": [
    "# 커스텀 모듈을 로드\n",
    "import mod1"
   ]
  },
  {
   "cell_type": "code",
   "execution_count": 119,
   "metadata": {},
   "outputs": [
    {
     "data": {
      "text/plain": [
       "'test'"
      ]
     },
     "execution_count": 119,
     "metadata": {},
     "output_type": "execute_result"
    }
   ],
   "source": [
    "\n",
    "# 모듈(mod1) 안(.)에 있는 변수 호출\n",
    "mod1.a\n",
    "mod1.b"
   ]
  },
  {
   "cell_type": "code",
   "execution_count": 121,
   "metadata": {},
   "outputs": [
    {
     "data": {
      "text/plain": [
       "8"
      ]
     },
     "execution_count": 121,
     "metadata": {},
     "output_type": "execute_result"
    }
   ],
   "source": [
    "# 모듈 안에 있는 함수 호출\n",
    "mod1.add(5,3)"
   ]
  },
  {
   "cell_type": "code",
   "execution_count": 128,
   "metadata": {},
   "outputs": [],
   "source": [
    "# 모듈 안에 있는 클래스를 생성\n",
    "user1 = mod1.User('test', 20)"
   ]
  },
  {
   "cell_type": "code",
   "execution_count": 125,
   "metadata": {},
   "outputs": [],
   "source": [
    "# 모듈을 수정한 경우 모듈 리로드\n",
    "# 라이브러리 로드\n",
    "import imp\n",
    "imp.reload(mod1)"
   ]
  },
  {
   "cell_type": "code",
   "execution_count": 130,
   "metadata": {},
   "outputs": [
    {
     "data": {
      "text/plain": [
       "['c:\\\\apps\\\\MoonT\\\\Pandas',\n",
       " 'c:\\\\Users\\\\eungok\\\\AppData\\\\Local\\\\Programs\\\\Python\\\\Python310\\\\python310.zip',\n",
       " 'c:\\\\Users\\\\eungok\\\\AppData\\\\Local\\\\Programs\\\\Python\\\\Python310\\\\DLLs',\n",
       " 'c:\\\\Users\\\\eungok\\\\AppData\\\\Local\\\\Programs\\\\Python\\\\Python310\\\\lib',\n",
       " 'c:\\\\Users\\\\eungok\\\\AppData\\\\Local\\\\Programs\\\\Python\\\\Python310',\n",
       " '',\n",
       " 'c:\\\\Users\\\\eungok\\\\AppData\\\\Local\\\\Programs\\\\Python\\\\Python310\\\\lib\\\\site-packages',\n",
       " 'c:\\\\Users\\\\eungok\\\\AppData\\\\Local\\\\Programs\\\\Python\\\\Python310\\\\lib\\\\site-packages\\\\win32',\n",
       " 'c:\\\\Users\\\\eungok\\\\AppData\\\\Local\\\\Programs\\\\Python\\\\Python310\\\\lib\\\\site-packages\\\\win32\\\\lib',\n",
       " 'c:\\\\Users\\\\eungok\\\\AppData\\\\Local\\\\Programs\\\\Python\\\\Python310\\\\lib\\\\site-packages\\\\Pythonwin']"
      ]
     },
     "execution_count": 130,
     "metadata": {},
     "output_type": "execute_result"
    }
   ],
   "source": [
    "# 저장 위치 확인\n",
    "import sys\n",
    "sys.path"
   ]
  },
  {
   "cell_type": "code",
   "execution_count": 132,
   "metadata": {},
   "outputs": [],
   "source": [
    "import mod2"
   ]
  },
  {
   "cell_type": "code",
   "execution_count": 134,
   "metadata": {},
   "outputs": [],
   "source": [
    "# mod2 안에 있는 Series class 생성\n",
    "series = mod2.Series([10,20,30,40], [1,2,3,4])"
   ]
  },
  {
   "cell_type": "code",
   "execution_count": 136,
   "metadata": {},
   "outputs": [
    {
     "data": {
      "text/plain": [
       "[1, 2, 0, 1]"
      ]
     },
     "execution_count": 136,
     "metadata": {},
     "output_type": "execute_result"
    }
   ],
   "source": [
    "# Series class 내부의 함수 (apply, replace)\n",
    "def change(x):\n",
    "    # 나눔의 나머지 값을 출력하는 연산자 : %\n",
    "    result = x % 3\n",
    "    return result\n",
    "\n",
    "series.apply(change)"
   ]
  },
  {
   "cell_type": "code",
   "execution_count": 138,
   "metadata": {},
   "outputs": [
    {
     "data": {
      "text/plain": [
       "[10, 15, 30, 40]"
      ]
     },
     "execution_count": 138,
     "metadata": {},
     "output_type": "execute_result"
    }
   ],
   "source": [
    "series.replace(20,15)"
   ]
  }
 ],
 "metadata": {
  "kernelspec": {
   "display_name": "Python 3",
   "language": "python",
   "name": "python3"
  },
  "language_info": {
   "codemirror_mode": {
    "name": "ipython",
    "version": 3
   },
   "file_extension": ".py",
   "mimetype": "text/x-python",
   "name": "python",
   "nbconvert_exporter": "python",
   "pygments_lexer": "ipython3",
   "version": "3.10.9"
  },
  "orig_nbformat": 4
 },
 "nbformat": 4,
 "nbformat_minor": 2
}
